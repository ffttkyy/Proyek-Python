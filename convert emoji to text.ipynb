{
  "nbformat": 4,
  "nbformat_minor": 0,
  "metadata": {
    "colab": {
      "provenance": [],
      "authorship_tag": "ABX9TyM8cU8FC8DCKn7S2DzQOEdZ"
    },
    "kernelspec": {
      "name": "python3",
      "display_name": "Python 3"
    },
    "language_info": {
      "name": "python"
    }
  },
  "cells": [
    {
      "cell_type": "code",
      "source": [
        "!pip3 install demoji"
      ],
      "metadata": {
        "colab": {
          "base_uri": "https://localhost:8080/"
        },
        "id": "quADUX7JR3Y7",
        "outputId": "fe825c67-5334-4e09-c227-d9ef8b395752"
      },
      "execution_count": 12,
      "outputs": [
        {
          "output_type": "stream",
          "name": "stdout",
          "text": [
            "Collecting demoji\n",
            "  Downloading demoji-1.1.0-py3-none-any.whl (42 kB)\n",
            "\u001b[?25l     \u001b[90m━━━━━━━━━━━━━━━━━━━━━━━━━━━━━━━━━━━━━━━━\u001b[0m \u001b[32m0.0/42.9 kB\u001b[0m \u001b[31m?\u001b[0m eta \u001b[36m-:--:--\u001b[0m\r\u001b[2K     \u001b[90m━━━━━━━━━━━━━━━━━━━━━━━━━━━━━━━━━━━━━━━━\u001b[0m \u001b[32m42.9/42.9 kB\u001b[0m \u001b[31m1.7 MB/s\u001b[0m eta \u001b[36m0:00:00\u001b[0m\n",
            "\u001b[?25hInstalling collected packages: demoji\n",
            "Successfully installed demoji-1.1.0\n"
          ]
        }
      ]
    },
    {
      "cell_type": "code",
      "execution_count": 17,
      "metadata": {
        "id": "wWhlrTQZRJqT"
      },
      "outputs": [],
      "source": [
        "import demoji as emo"
      ]
    },
    {
      "cell_type": "code",
      "source": [
        "emoji = '''😀😃😄😁😆😅😂🙃🙂😇😊☺️🥲🤣😉😌\n",
        "           😍🥰😘😗😙🤨🤪😜😝😛😋😚🧐🤓😎🥸\n",
        "           🤩🥳😏😒😞😔😟😕🙁☹️😭🥺😢😩😫😖\n",
        "           😣😤😠😡🤬🤯😳🥵😓😥😰😨😱😶‍🌫️🥶🤗\n",
        "           🤔🤫🤥😶😐😮😧😦😯🙄😬😑😲🥱😴🤤\n",
        "           😪😵😮‍💨😷🤧🤮🤢🥴🤐😵‍💫🤒🤕🤑🤠😈👿\n",
        "           👹👽☠️💀👻💩🤡👺👾🤖🎃😺😸😻😹👐\n",
        "           🤲😿😾🙀😽😼🙌👏🤝👍👎👊✊🤛🤜🤞\n",
        "           ✌️🤟🤘👌🙇‍♀️🙇🧞‍♂️🚼🕺🖕🤙'''\n",
        "emo.findall(emoji)"
      ],
      "metadata": {
        "colab": {
          "base_uri": "https://localhost:8080/"
        },
        "id": "lq4r6oEcYVjJ",
        "outputId": "ae366489-8bb7-4a5c-91be-cd46c60bdf0e"
      },
      "execution_count": 19,
      "outputs": [
        {
          "output_type": "execute_result",
          "data": {
            "text/plain": [
              "{'👍': 'thumbs up',\n",
              " '😫': 'tired face',\n",
              " '😳': 'flushed face',\n",
              " '😵\\u200d💫': 'face with spiral eyes',\n",
              " '😩': 'weary face',\n",
              " '😛': 'face with tongue',\n",
              " '😮\\u200d💨': 'face exhaling',\n",
              " '🤓': 'nerd face',\n",
              " '🙌': 'raising hands',\n",
              " '😟': 'worried face',\n",
              " '😴': 'sleeping face',\n",
              " '🤑': 'money-mouth face',\n",
              " '😨': 'fearful face',\n",
              " '😮': 'face with open mouth',\n",
              " '🤪': 'zany face',\n",
              " '😌': 'relieved face',\n",
              " '👌': 'OK hand',\n",
              " '😔': 'pensive face',\n",
              " '😙': 'kissing face with smiling eyes',\n",
              " '🙃': 'upside-down face',\n",
              " '🧞\\u200d♂️': 'man genie',\n",
              " '🤐': 'zipper-mouth face',\n",
              " '😹': 'cat with tears of joy',\n",
              " '😵': 'knocked-out face',\n",
              " '😼': 'cat with wry smile',\n",
              " '😢': 'crying face',\n",
              " '😣': 'persevering face',\n",
              " '🙇': 'person bowing',\n",
              " '😅': 'grinning face with sweat',\n",
              " '😚': 'kissing face with closed eyes',\n",
              " '😖': 'confounded face',\n",
              " '🤢': 'nauseated face',\n",
              " '🥵': 'hot face',\n",
              " '🤮': 'face vomiting',\n",
              " '🤜': 'right-facing fist',\n",
              " '🤣': 'rolling on the floor laughing',\n",
              " '☺️': 'smiling face',\n",
              " '🥸': 'disguised face',\n",
              " '👐': 'open hands',\n",
              " '😾': 'pouting cat',\n",
              " '💀': 'skull',\n",
              " '😋': 'face savoring food',\n",
              " '🤕': 'face with head-bandage',\n",
              " '😥': 'sad but relieved face',\n",
              " '🥱': 'yawning face',\n",
              " '🤤': 'drooling face',\n",
              " '🤒': 'face with thermometer',\n",
              " '😻': 'smiling cat with heart-eyes',\n",
              " '😷': 'face with medical mask',\n",
              " '👺': 'goblin',\n",
              " '😓': 'downcast face with sweat',\n",
              " '😸': 'grinning cat with smiling eyes',\n",
              " '👿': 'angry face with horns',\n",
              " '🤞': 'crossed fingers',\n",
              " '🤟': 'love-you gesture',\n",
              " '🙀': 'weary cat',\n",
              " '🚼': 'baby symbol',\n",
              " '🥰': 'smiling face with hearts',\n",
              " '💩': 'pile of poo',\n",
              " '👊': 'oncoming fist',\n",
              " '😉': 'winking face',\n",
              " '🧐': 'face with monocle',\n",
              " '☹️': 'frowning face',\n",
              " '😰': 'anxious face with sweat',\n",
              " '👽': 'alien',\n",
              " '😜': 'winking face with tongue',\n",
              " '😯': 'hushed face',\n",
              " '😭': 'loudly crying face',\n",
              " '🤗': 'hugging face',\n",
              " '🙄': 'face with rolling eyes',\n",
              " '😽': 'kissing cat',\n",
              " '😗': 'kissing face',\n",
              " '😝': 'squinting face with tongue',\n",
              " '👻': 'ghost',\n",
              " '😄': 'grinning face with smiling eyes',\n",
              " '😺': 'grinning cat',\n",
              " '😕': 'confused face',\n",
              " '🤧': 'sneezing face',\n",
              " '🙂': 'slightly smiling face',\n",
              " '😤': 'face with steam from nose',\n",
              " '😞': 'disappointed face',\n",
              " '😶\\u200d🌫️': 'face in clouds',\n",
              " '🤡': 'clown face',\n",
              " '🤥': 'lying face',\n",
              " '😎': 'smiling face with sunglasses',\n",
              " '🤖': 'robot',\n",
              " '🤛': 'left-facing fist',\n",
              " '😑': 'expressionless face',\n",
              " '😬': 'grimacing face',\n",
              " '😀': 'grinning face',\n",
              " '😊': 'smiling face with smiling eyes',\n",
              " '😆': 'grinning squinting face',\n",
              " '✌️': 'victory hand',\n",
              " '🥲': 'smiling face with tear',\n",
              " '😒': 'unamused face',\n",
              " '😶': 'face without mouth',\n",
              " '👎': 'thumbs down',\n",
              " '😧': 'anguished face',\n",
              " '😦': 'frowning face with open mouth',\n",
              " '✊': 'raised fist',\n",
              " '😇': 'smiling face with halo',\n",
              " '🤙': 'call me hand',\n",
              " '😿': 'crying cat',\n",
              " '😂': 'face with tears of joy',\n",
              " '😡': 'pouting face',\n",
              " '☠️': 'skull and crossbones',\n",
              " '🙇\\u200d♀️': 'woman bowing',\n",
              " '🥳': 'partying face',\n",
              " '🤨': 'face with raised eyebrow',\n",
              " '😏': 'smirking face',\n",
              " '🥴': 'woozy face',\n",
              " '😪': 'sleepy face',\n",
              " '😠': 'angry face',\n",
              " '🤯': 'exploding head',\n",
              " '🙁': 'slightly frowning face',\n",
              " '😈': 'smiling face with horns',\n",
              " '🤬': 'face with symbols on mouth',\n",
              " '😐': 'neutral face',\n",
              " '🤫': 'shushing face',\n",
              " '👏': 'clapping hands',\n",
              " '😁': 'beaming face with smiling eyes',\n",
              " '😱': 'face screaming in fear',\n",
              " '😲': 'astonished face',\n",
              " '🎃': 'jack-o-lantern',\n",
              " '🤘': 'sign of the horns',\n",
              " '🕺': 'man dancing',\n",
              " '😍': 'smiling face with heart-eyes',\n",
              " '😘': 'face blowing a kiss',\n",
              " '🤠': 'cowboy hat face',\n",
              " '🤝': 'handshake',\n",
              " '🤩': 'star-struck',\n",
              " '🤔': 'thinking face',\n",
              " '👹': 'ogre',\n",
              " '🤲': 'palms up together',\n",
              " '😃': 'grinning face with big eyes',\n",
              " '🥺': 'pleading face',\n",
              " '👾': 'alien monster',\n",
              " '🖕': 'middle finger',\n",
              " '🥶': 'cold face'}"
            ]
          },
          "metadata": {},
          "execution_count": 19
        }
      ]
    },
    {
      "cell_type": "code",
      "source": [
        "text = 'Life is 😭'\n",
        "emo.findall(text)"
      ],
      "metadata": {
        "colab": {
          "base_uri": "https://localhost:8080/"
        },
        "id": "dyjuK9VaYWsI",
        "outputId": "19d4e78f-df76-4110-ae13-7159e392fa6e"
      },
      "execution_count": 20,
      "outputs": [
        {
          "output_type": "execute_result",
          "data": {
            "text/plain": [
              "{'😭': 'loudly crying face'}"
            ]
          },
          "metadata": {},
          "execution_count": 20
        }
      ]
    }
  ]
}